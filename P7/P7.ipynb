{
 "cells": [
  {
   "cell_type": "code",
   "execution_count": 43,
   "metadata": {},
   "outputs": [],
   "source": [
    "import pandas as pd\n",
    "from sklearn.model_selection import train_test_split\n",
    "import numpy as np\n",
    "from sklearn.metrics import accuracy_score, classification_report, confusion_matrix, ConfusionMatrixDisplay\n",
    "import matplotlib.pyplot as plt"
   ]
  },
  {
   "cell_type": "code",
   "execution_count": 46,
   "metadata": {},
   "outputs": [],
   "source": [
    "df = pd.read_csv('iris.csv')"
   ]
  },
  {
   "cell_type": "code",
   "execution_count": 47,
   "metadata": {},
   "outputs": [],
   "source": [
    "X = df.drop('species', axis=1)\n",
    "# X= df.iloc[:, :2]\n",
    "Y = df['species']"
   ]
  },
  {
   "cell_type": "code",
   "execution_count": 48,
   "metadata": {},
   "outputs": [],
   "source": [
    "# Definir el orden deseado de las clases\n",
    "desired_classes = ['Iris-setosa', 'Iris-versicolor', 'Iris-virginica']\n",
    "\n",
    "# Split the data\n",
    "X_train, X_test, Y_train, Y_test = train_test_split(X, Y, test_size=0.2, shuffle=True, random_state=0)"
   ]
  },
  {
   "cell_type": "code",
   "execution_count": 49,
   "metadata": {},
   "outputs": [
    {
     "name": "stdout",
     "output_type": "stream",
     "text": [
      "Clasificación para Iris-virginica\n",
      "\n",
      "One vs All Dataset para Iris-virginica\n",
      "137    1\n",
      "84     0\n",
      "27     0\n",
      "127    1\n",
      "132    1\n",
      "      ..\n",
      "9      0\n",
      "103    1\n",
      "67     0\n",
      "117    1\n",
      "47     0\n",
      "Name: species, Length: 120, dtype: int32\n",
      "\n",
      "[Vector Positivo Soporte para  Iris-virginica]\n",
      "sepal_length    6.638636\n",
      "sepal_width     2.988636\n",
      "petal_length    5.565909\n",
      "petal_width     2.031818\n",
      "dtype: float64\n",
      " Norma positiva: 9.386749661883822\n",
      "\n",
      "[Vector Negativo Soporte para Iris-virginica]\n",
      "sepal_length    5.442105\n",
      "sepal_width     3.090789\n",
      "petal_length    2.802632\n",
      "petal_width     0.767105\n",
      "dtype: float64\n",
      " Norma negativa: 6.900194455086432\n",
      "\n",
      "[Vector Soporte para Iris-virginica]\n",
      "sepal_length    6.040371\n",
      "sepal_width     3.039713\n",
      "petal_length    4.184270\n",
      "petal_width     1.399462\n",
      "dtype: float64 \n",
      "\n",
      "Norma vector soporte: 8.074190085679165 - Instancias Positivas: 44\n",
      "Clasificación para Iris-versicolor\n",
      "\n",
      "One vs All Dataset para Iris-versicolor\n",
      "137    0\n",
      "84     1\n",
      "27     0\n",
      "127    0\n",
      "132    0\n",
      "      ..\n",
      "9      0\n",
      "103    0\n",
      "67     1\n",
      "117    0\n",
      "47     0\n",
      "Name: species, Length: 120, dtype: int32\n",
      "\n",
      "[Vector Positivo Soporte para  Iris-versicolor]\n",
      "sepal_length    5.886486\n",
      "sepal_width     2.762162\n",
      "petal_length    4.216216\n",
      "petal_width     1.324324\n",
      "dtype: float64\n",
      " Norma positiva: 7.861970304163584\n",
      "\n",
      "[Vector Negativo Soporte para Iris-versicolor]\n",
      "sepal_length    5.878313\n",
      "sepal_width     3.183133\n",
      "petal_length    3.637349\n",
      "petal_width     1.189157\n",
      "dtype: float64\n",
      " Norma negativa: 7.702681580291533\n",
      "\n",
      "[Vector Soporte para Iris-versicolor]\n",
      "sepal_length    5.882400\n",
      "sepal_width     2.972647\n",
      "petal_length    3.926783\n",
      "petal_width     1.256740\n",
      "dtype: float64 \n",
      "\n",
      "Norma vector soporte: 7.774206088552404 - Instancias Positivas: 37\n",
      "Clasificación para Iris-setosa\n",
      "\n",
      "One vs All Dataset para Iris-setosa\n",
      "137    0\n",
      "84     0\n",
      "27     1\n",
      "127    0\n",
      "132    0\n",
      "      ..\n",
      "9      1\n",
      "103    0\n",
      "67     0\n",
      "117    0\n",
      "47     1\n",
      "Name: species, Length: 120, dtype: int32\n",
      "\n",
      "[Vector Positivo Soporte para  Iris-setosa]\n",
      "sepal_length    5.020513\n",
      "sepal_width     3.402564\n",
      "petal_length    1.461538\n",
      "petal_width     0.238462\n",
      "dtype: float64\n",
      " Norma positiva: 6.2430721630358486\n",
      "\n",
      "[Vector Negativo Soporte para Iris-setosa]\n",
      "sepal_length    6.295062\n",
      "sepal_width     2.885185\n",
      "petal_length    4.949383\n",
      "petal_width     1.708642\n",
      "dtype: float64\n",
      " Norma negativa: 8.68147121096599\n",
      "\n",
      "[Vector Soporte para Iris-setosa]\n",
      "sepal_length    5.657787\n",
      "sepal_width     3.143875\n",
      "petal_length    3.205461\n",
      "petal_width     0.973552\n",
      "dtype: float64 \n",
      "\n",
      "Norma vector soporte: 7.288160620418297 - Instancias Positivas: 39\n"
     ]
    }
   ],
   "source": [
    "#Get the support vectors\n",
    "support_vectors = {}\n",
    "for target_class in Y_train.unique():\n",
    "    print(f'Clasificación para {target_class}\\n')\n",
    "    #Onve vs All\n",
    "    #ova_y = Y_train.copy()\n",
    "    #ova_y[ova_y != target_class] = 0\n",
    "    #ova_y[ova_y == target_class] = 1\n",
    "    ova_y = (Y_train == target_class).astype(int)\n",
    "    #info\n",
    "    print(f'One vs All Dataset para {target_class}')\n",
    "    print(ova_y)\n",
    "    # print(ova_y.to_string())\n",
    "    #Support Vector Possitive\n",
    "    positive_sv = np.mean(X_train[ova_y == 1], axis=0)\n",
    "    norm_positive_sv = np.linalg.norm(positive_sv)\n",
    "    #Support Vector Negative\n",
    "    negative_sv = np.mean(X_train[ova_y == 0], axis=0)\n",
    "    norm_negative_sv = np.linalg.norm(negative_sv)\n",
    "    #Total Positives\n",
    "    total_positives = np.sum(ova_y == 1)\n",
    "\n",
    "    #Support Vector\n",
    "    support_vector = (positive_sv + negative_sv)/2\n",
    "    #Magnitude\n",
    "    magnitude = np.linalg.norm(support_vector)\n",
    "    #Info\n",
    "    print(f'\\n[Vector Positivo Soporte para  {target_class}]' + f'\\n{positive_sv}' +  f'\\n Norma positiva: {norm_positive_sv}')\n",
    "    print(f'\\n[Vector Negativo Soporte para {target_class}]'+ f'\\n{negative_sv}' +  f'\\n Norma negativa: {norm_negative_sv}')\n",
    "    print(f'\\n[Vector Soporte para {target_class}]' + f'\\n{support_vector} \\n' + f'\\nNorma vector soporte: {magnitude} - Instancias Positivas: {total_positives}')\n",
    "    support_vectors[target_class] = (support_vector, magnitude, total_positives)"
   ]
  },
  {
   "cell_type": "code",
   "execution_count": 50,
   "metadata": {},
   "outputs": [
    {
     "name": "stdout",
     "output_type": "stream",
     "text": [
      "\n",
      "[Vector de proyección para Iris-virginica]\n",
      "[ 8.4520965   7.5631284   6.45596698 10.12978488  5.83255724  9.4981248\n",
      "  5.78389148  8.8750521   8.87141137  7.91582054  8.68702311  8.58462123\n",
      "  8.26124751  8.56066576  8.33355986  5.62747201  8.17243596  7.58161945\n",
      "  5.49785615  6.25105656  8.12949907  7.91083981  5.89022667  5.14363291\n",
      "  8.49187636  5.34949443  6.29991343  8.18374704  6.4899076   5.91904509]\n",
      "\n",
      "[Vector de proyección para Iris-versicolor]\n",
      "[ 8.42325255  7.56322825  6.50705186 10.10560564  5.87333576  9.46352626\n",
      "  5.82671778  8.87142366  8.86672221  7.91681426  8.6646716   8.58164335\n",
      "  8.25422156  8.55487012  8.32478991  5.66679271  8.16426901  7.57222212\n",
      "  5.53471043  6.29849495  8.10623848  7.89984391  5.92404617  5.17764519\n",
      "  8.47739066  5.39459596  6.33632325  8.18224838  6.49123671  5.95617719]\n",
      "\n",
      "[Vector de proyección para Iris-setosa]\n",
      "[8.27402023 7.49964838 6.7238445  9.9292376  6.03458317 9.28704684\n",
      " 6.00311439 8.80595007 8.78479346 7.8761726  8.50696512 8.52823379\n",
      " 8.17068687 8.47729844 8.24053958 5.81418513 8.08830423 7.48668911\n",
      " 5.67615278 6.49953868 7.97736509 7.82092162 6.05525049 5.30913871\n",
      " 8.37244639 5.59042854 6.48740293 8.12888443 6.45861449 6.1052809 ]\n"
     ]
    }
   ],
   "source": [
    "#Predictions\n",
    "probabilities = []\n",
    "for target_class in Y_train.unique():\n",
    "    #Get the support vector\n",
    "    support_vector = support_vectors[target_class]\n",
    "    magnitude= support_vector[1]\n",
    "    #Proyection vectors\n",
    "    pv = np.dot(X_test, support_vector[0])/magnitude\n",
    "    print(f'\\n[Vector de proyección para {target_class}]' + f'\\n{pv}')\n",
    "    #Probabilities\n",
    "    if target_class == \"Iris-setosa\":\n",
    "        test = (pv < magnitude).astype(int)\n",
    "    else:\n",
    "        test = (pv > magnitude).astype(int)\n",
    "    probabilities.append(test * (support_vector[2] / len(X_train)))\n",
    "    # probabilities.append((pv > support_vector[1]) * (support_vector[2]/len(X_train)))"
   ]
  },
  {
   "cell_type": "code",
   "execution_count": 51,
   "metadata": {},
   "outputs": [
    {
     "name": "stdout",
     "output_type": "stream",
     "text": [
      "\n",
      "[Probabilidades]\n",
      "[[0.36666667 0.30833333 0.        ]\n",
      " [0.         0.         0.        ]\n",
      " [0.         0.         0.325     ]\n",
      " [0.36666667 0.30833333 0.        ]\n",
      " [0.         0.         0.325     ]\n",
      " [0.36666667 0.30833333 0.        ]\n",
      " [0.         0.         0.325     ]\n",
      " [0.36666667 0.30833333 0.        ]\n",
      " [0.36666667 0.30833333 0.        ]\n",
      " [0.         0.30833333 0.        ]\n",
      " [0.36666667 0.30833333 0.        ]\n",
      " [0.36666667 0.30833333 0.        ]\n",
      " [0.36666667 0.30833333 0.        ]\n",
      " [0.36666667 0.30833333 0.        ]\n",
      " [0.36666667 0.30833333 0.        ]\n",
      " [0.         0.         0.325     ]\n",
      " [0.36666667 0.30833333 0.        ]\n",
      " [0.         0.         0.        ]\n",
      " [0.         0.         0.325     ]\n",
      " [0.         0.         0.325     ]\n",
      " [0.36666667 0.30833333 0.        ]\n",
      " [0.         0.30833333 0.        ]\n",
      " [0.         0.         0.325     ]\n",
      " [0.         0.         0.325     ]\n",
      " [0.36666667 0.30833333 0.        ]\n",
      " [0.         0.         0.325     ]\n",
      " [0.         0.         0.325     ]\n",
      " [0.36666667 0.30833333 0.        ]\n",
      " [0.         0.         0.325     ]\n",
      " [0.         0.         0.325     ]]\n"
     ]
    }
   ],
   "source": [
    "# Multiply by the probability of the class\n",
    "probabilities = np.array(probabilities).T\n",
    "print(f'\\n[Probabilidades]'+f'\\n{probabilities}')"
   ]
  },
  {
   "cell_type": "code",
   "execution_count": 52,
   "metadata": {},
   "outputs": [
    {
     "name": "stdout",
     "output_type": "stream",
     "text": [
      "\n",
      "[Predicciones]\n",
      "['Iris-virginica' 'Indefinido' 'Iris-setosa' 'Iris-virginica'\n",
      " 'Iris-setosa' 'Iris-virginica' 'Iris-setosa' 'Iris-virginica'\n",
      " 'Iris-virginica' 'Iris-versicolor' 'Iris-virginica' 'Iris-virginica'\n",
      " 'Iris-virginica' 'Iris-virginica' 'Iris-virginica' 'Iris-setosa'\n",
      " 'Iris-virginica' 'Indefinido' 'Iris-setosa' 'Iris-setosa'\n",
      " 'Iris-virginica' 'Iris-versicolor' 'Iris-setosa' 'Iris-setosa'\n",
      " 'Iris-virginica' 'Iris-setosa' 'Iris-setosa' 'Iris-virginica'\n",
      " 'Iris-setosa' 'Iris-setosa']\n"
     ]
    }
   ],
   "source": [
    "# Check if all probabilities are equal for an instance\n",
    "undefined_results = np.all(probabilities == probabilities[:, [0]], axis=1)\n",
    "\n",
    "# Get the max probability\n",
    "probabilities = np.argmax(probabilities, axis=1)\n",
    "\n",
    "# Assign the class name\n",
    "Y_pred = np.array([Y_train.unique()[i] for i in probabilities])\n",
    "\n",
    "# Make undefined where all probabilities are equal\n",
    "Y_pred[undefined_results] = 'Indefinido'\n",
    "\n",
    "print(f'\\n[Predicciones]'+f'\\n{Y_pred}')"
   ]
  },
  {
   "cell_type": "code",
   "execution_count": 53,
   "metadata": {},
   "outputs": [
    {
     "name": "stdout",
     "output_type": "stream",
     "text": [
      "Classification Report:\n",
      "                 precision    recall  f1-score   support\n",
      "\n",
      "    Iris-setosa       0.92      1.00      0.96        11\n",
      "Iris-versicolor       1.00      0.15      0.27        13\n",
      " Iris-virginica       0.43      1.00      0.60         6\n",
      "     Indefinido       0.00      0.00      0.00         0\n",
      "\n",
      "       accuracy                           0.63        30\n",
      "      macro avg       0.59      0.54      0.46        30\n",
      "   weighted avg       0.86      0.63      0.59        30\n",
      "\n"
     ]
    }
   ],
   "source": [
    "# Reporte de clasificación\n",
    "print(\"Classification Report:\")\n",
    "print(classification_report(Y_test, Y_pred, labels=np.append(desired_classes, 'Indefinido'), zero_division=0))"
   ]
  },
  {
   "cell_type": "code",
   "execution_count": 54,
   "metadata": {},
   "outputs": [
    {
     "name": "stdout",
     "output_type": "stream",
     "text": [
      "\n",
      "Confusion Matrix:\n",
      "[[11  0  0  0]\n",
      " [ 1  2  8  2]\n",
      " [ 0  0  6  0]\n",
      " [ 0  0  0  0]]\n"
     ]
    }
   ],
   "source": [
    "# Matriz de confusión\n",
    "cm = confusion_matrix(Y_test, Y_pred, labels=np.append(desired_classes, 'Indefinido'))\n",
    "print(\"\\nConfusion Matrix:\")\n",
    "print(cm)"
   ]
  },
  {
   "cell_type": "code",
   "execution_count": 55,
   "metadata": {},
   "outputs": [
    {
     "data": {
      "image/png": "[encoded data removed]",
      "text/plain": [
       "<Figure size 640x480 with 2 Axes>"
      ]
     },
     "metadata": {},
     "output_type": "display_data"
    }
   ],
   "source": [
    "# Visualización de la matriz de confusión\n",
    "disp = ConfusionMatrixDisplay(confusion_matrix=cm, display_labels=np.append(desired_classes, 'Indefinido'))\n",
    "disp.plot()\n",
    "plt.show()"
   ]
  }
 ],
 "metadata": {
  "kernelspec": {
   "display_name": "py311",
   "language": "python",
   "name": "python3"
  },
  "language_info": {
   "codemirror_mode": {
    "name": "ipython",
    "version": 3
   },
   "file_extension": ".py",
   "mimetype": "text/x-python",
   "name": "python",
   "nbconvert_exporter": "python",
   "pygments_lexer": "ipython3",
   "version": "3.11.5"
  }
 },
 "nbformat": 4,
 "nbformat_minor": 2
}
