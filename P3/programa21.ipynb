{
 "cells": [
  {
   "cell_type": "code",
   "execution_count": 4,
   "metadata": {},
   "outputs": [],
   "source": [
    "import numpy as np\n",
    "import pandas as pd\n",
    "import copy\n",
    "import matplotlib.pyplot as plt\n",
    "\n",
    "def cargar_dataset(archivo):\n",
    "  data = pd.read_csv(archivo)\n",
    "  X = data.drop('y', axis=1).values\n",
    "  y = data['y'].values\n",
    "\n",
    "  X_norm = (X - X.mean()) / X.std()\n",
    "\n",
    "  from sklearn.model_selection import train_test_split\n",
    "  X_train, X_test, y_train, y_test = train_test_split(X_norm, y, test_size=0.3, shuffle=True, random_state=0)\n",
    "\n",
    "  return X_train, X_test, y_train, y_test\n",
    "\n",
    "def regresion_lineal(X, w, b):\n",
    "  y_pred = np.dot(X, w) + b\n",
    "  return y_pred\n",
    "\n",
    "def gradiente(X, y, w, b, alpha):\n",
    "  y_pred = regresion_lineal(X, w, b)\n",
    "  dw = (2/X.shape[0]) * np.dot(X.T, (y_pred - y))\n",
    "  db = (2/X.shape[0]) * np.sum(y_pred - y)\n",
    "  return dw, db\n",
    "\n",
    "# Definir función para entrenar el modelo\n",
    "def entrenar_modelo(X_train, y_train, num_iteraciones, w0, alpha):\n",
    "  pesos_iter = []\n",
    "  y_pred_iter = []\n",
    "  error_iter = []\n",
    "\n",
    "  w = w0\n",
    "  for i in range(num_iteraciones):\n",
    "    y_pred = regresion_lineal(X_train, w, 0)\n",
    "    #error = np.mean((y_pred - y_train)**2)\n",
    "\n",
    "    pesos_iter.append(w)\n",
    "    y_pred_iter.append(y_pred)\n",
    "    #error_iter.append(error)\n",
    "\n",
    "    dw, db = gradiente(X_train, y_train, w, 0, alpha)\n",
    "    w -= alpha * dw\n",
    "\n",
    "  return pesos_iter, y_pred_iter, error_iter"
   ]
  },
  {
   "cell_type": "code",
   "execution_count": 5,
   "metadata": {},
   "outputs": [
    {
     "ename": "ValueError",
     "evalue": "operands could not be broadcast together with shapes (7,5) (7,) ",
     "output_type": "error",
     "traceback": [
      "\u001b[1;31m---------------------------------------------------------------------------\u001b[0m",
      "\u001b[1;31mValueError\u001b[0m                                Traceback (most recent call last)",
      "Cell \u001b[1;32mIn[5], line 2\u001b[0m\n\u001b[0;32m      1\u001b[0m X_train, X_test, y_train, y_test \u001b[38;5;241m=\u001b[39m cargar_dataset(\u001b[38;5;124m\"\u001b[39m\u001b[38;5;124m./Dataset_multivariable.csv\u001b[39m\u001b[38;5;124m\"\u001b[39m)\n\u001b[1;32m----> 2\u001b[0m \u001b[43mentrenar_modelo\u001b[49m\u001b[43m(\u001b[49m\u001b[43mX_train\u001b[49m\u001b[43m,\u001b[49m\u001b[43m \u001b[49m\u001b[43my_train\u001b[49m\u001b[43m,\u001b[49m\u001b[43m \u001b[49m\u001b[38;5;241;43m5\u001b[39;49m\u001b[43m,\u001b[49m\u001b[43m \u001b[49m\u001b[38;5;241;43m0\u001b[39;49m\u001b[43m,\u001b[49m\u001b[43m \u001b[49m\u001b[38;5;241;43m0.00006\u001b[39;49m\u001b[43m)\u001b[49m\n",
      "Cell \u001b[1;32mIn[4], line 43\u001b[0m, in \u001b[0;36mentrenar_modelo\u001b[1;34m(X_train, y_train, num_iteraciones, w0, alpha)\u001b[0m\n\u001b[0;32m     40\u001b[0m   y_pred_iter\u001b[38;5;241m.\u001b[39mappend(y_pred)\n\u001b[0;32m     41\u001b[0m   \u001b[38;5;66;03m#error_iter.append(error)\u001b[39;00m\n\u001b[1;32m---> 43\u001b[0m   dw, db \u001b[38;5;241m=\u001b[39m \u001b[43mgradiente\u001b[49m\u001b[43m(\u001b[49m\u001b[43mX_train\u001b[49m\u001b[43m,\u001b[49m\u001b[43m \u001b[49m\u001b[43my_train\u001b[49m\u001b[43m,\u001b[49m\u001b[43m \u001b[49m\u001b[43mw\u001b[49m\u001b[43m,\u001b[49m\u001b[43m \u001b[49m\u001b[38;5;241;43m0\u001b[39;49m\u001b[43m,\u001b[49m\u001b[43m \u001b[49m\u001b[43malpha\u001b[49m\u001b[43m)\u001b[49m\n\u001b[0;32m     44\u001b[0m   w \u001b[38;5;241m-\u001b[39m\u001b[38;5;241m=\u001b[39m alpha \u001b[38;5;241m*\u001b[39m dw\n\u001b[0;32m     46\u001b[0m \u001b[38;5;28;01mreturn\u001b[39;00m pesos_iter, y_pred_iter, error_iter\n",
      "Cell \u001b[1;32mIn[4], line 24\u001b[0m, in \u001b[0;36mgradiente\u001b[1;34m(X, y, w, b, alpha)\u001b[0m\n\u001b[0;32m     22\u001b[0m \u001b[38;5;28;01mdef\u001b[39;00m \u001b[38;5;21mgradiente\u001b[39m(X, y, w, b, alpha):\n\u001b[0;32m     23\u001b[0m   y_pred \u001b[38;5;241m=\u001b[39m regresion_lineal(X, w, b)\n\u001b[1;32m---> 24\u001b[0m   dw \u001b[38;5;241m=\u001b[39m (\u001b[38;5;241m2\u001b[39m\u001b[38;5;241m/\u001b[39mX\u001b[38;5;241m.\u001b[39mshape[\u001b[38;5;241m0\u001b[39m]) \u001b[38;5;241m*\u001b[39m np\u001b[38;5;241m.\u001b[39mdot(X\u001b[38;5;241m.\u001b[39mT, (\u001b[43my_pred\u001b[49m\u001b[43m \u001b[49m\u001b[38;5;241;43m-\u001b[39;49m\u001b[43m \u001b[49m\u001b[43my\u001b[49m))\n\u001b[0;32m     25\u001b[0m   db \u001b[38;5;241m=\u001b[39m (\u001b[38;5;241m2\u001b[39m\u001b[38;5;241m/\u001b[39mX\u001b[38;5;241m.\u001b[39mshape[\u001b[38;5;241m0\u001b[39m]) \u001b[38;5;241m*\u001b[39m np\u001b[38;5;241m.\u001b[39msum(y_pred \u001b[38;5;241m-\u001b[39m y)\n\u001b[0;32m     26\u001b[0m   \u001b[38;5;28;01mreturn\u001b[39;00m dw, db\n",
      "\u001b[1;31mValueError\u001b[0m: operands could not be broadcast together with shapes (7,5) (7,) "
     ]
    }
   ],
   "source": [
    "X_train, X_test, y_train, y_test = cargar_dataset(\"./Dataset_multivariable.csv\")\n",
    "entrenar_modelo(X_train, y_train, 5, 0, 0.00006)"
   ]
  },
  {
   "cell_type": "code",
   "execution_count": null,
   "metadata": {},
   "outputs": [],
   "source": []
  }
 ],
 "metadata": {
  "kernelspec": {
   "display_name": "py311",
   "language": "python",
   "name": "python3"
  },
  "language_info": {
   "codemirror_mode": {
    "name": "ipython",
    "version": 3
   },
   "file_extension": ".py",
   "mimetype": "text/x-python",
   "name": "python",
   "nbconvert_exporter": "python",
   "pygments_lexer": "ipython3",
   "version": "3.11.5"
  }
 },
 "nbformat": 4,
 "nbformat_minor": 2
}
