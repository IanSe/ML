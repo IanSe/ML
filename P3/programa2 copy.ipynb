{
 "cells": [
  {
   "cell_type": "code",
   "execution_count": 9,
   "metadata": {},
   "outputs": [],
   "source": [
    "import numpy as np\n",
    "import pandas as pd\n",
    "import matplotlib.pyplot as plt\n",
    "import math\n",
    "from sklearn.model_selection import train_test_split"
   ]
  },
  {
   "cell_type": "code",
   "execution_count": 3,
   "metadata": {},
   "outputs": [
    {
     "data": {
      "text/html": [
       "<div>\n",
       "<style scoped>\n",
       "    .dataframe tbody tr th:only-of-type {\n",
       "        vertical-align: middle;\n",
       "    }\n",
       "\n",
       "    .dataframe tbody tr th {\n",
       "        vertical-align: top;\n",
       "    }\n",
       "\n",
       "    .dataframe thead th {\n",
       "        text-align: right;\n",
       "    }\n",
       "</style>\n",
       "<table border=\"1\" class=\"dataframe\">\n",
       "  <thead>\n",
       "    <tr style=\"text-align: right;\">\n",
       "      <th></th>\n",
       "      <th>x1</th>\n",
       "      <th>x2</th>\n",
       "      <th>x3</th>\n",
       "      <th>x4</th>\n",
       "      <th>x5</th>\n",
       "    </tr>\n",
       "  </thead>\n",
       "  <tbody>\n",
       "    <tr>\n",
       "      <th>9</th>\n",
       "      <td>1.0</td>\n",
       "      <td>2.2</td>\n",
       "      <td>-39.0</td>\n",
       "      <td>48.0</td>\n",
       "      <td>25.5</td>\n",
       "    </tr>\n",
       "    <tr>\n",
       "      <th>1</th>\n",
       "      <td>1.0</td>\n",
       "      <td>0.6</td>\n",
       "      <td>-15.0</td>\n",
       "      <td>16.0</td>\n",
       "      <td>11.9</td>\n",
       "    </tr>\n",
       "    <tr>\n",
       "      <th>6</th>\n",
       "      <td>1.0</td>\n",
       "      <td>1.6</td>\n",
       "      <td>-30.0</td>\n",
       "      <td>36.0</td>\n",
       "      <td>20.4</td>\n",
       "    </tr>\n",
       "    <tr>\n",
       "      <th>7</th>\n",
       "      <td>1.0</td>\n",
       "      <td>1.8</td>\n",
       "      <td>-33.0</td>\n",
       "      <td>40.0</td>\n",
       "      <td>22.1</td>\n",
       "    </tr>\n",
       "    <tr>\n",
       "      <th>3</th>\n",
       "      <td>1.0</td>\n",
       "      <td>1.0</td>\n",
       "      <td>-21.0</td>\n",
       "      <td>24.0</td>\n",
       "      <td>15.3</td>\n",
       "    </tr>\n",
       "    <tr>\n",
       "      <th>0</th>\n",
       "      <td>1.0</td>\n",
       "      <td>0.4</td>\n",
       "      <td>-12.0</td>\n",
       "      <td>12.0</td>\n",
       "      <td>10.2</td>\n",
       "    </tr>\n",
       "    <tr>\n",
       "      <th>5</th>\n",
       "      <td>1.0</td>\n",
       "      <td>1.4</td>\n",
       "      <td>-27.0</td>\n",
       "      <td>32.0</td>\n",
       "      <td>18.7</td>\n",
       "    </tr>\n",
       "  </tbody>\n",
       "</table>\n",
       "</div>"
      ],
      "text/plain": [
       "    x1   x2    x3    x4    x5\n",
       "9  1.0  2.2 -39.0  48.0  25.5\n",
       "1  1.0  0.6 -15.0  16.0  11.9\n",
       "6  1.0  1.6 -30.0  36.0  20.4\n",
       "7  1.0  1.8 -33.0  40.0  22.1\n",
       "3  1.0  1.0 -21.0  24.0  15.3\n",
       "0  1.0  0.4 -12.0  12.0  10.2\n",
       "5  1.0  1.4 -27.0  32.0  18.7"
      ]
     },
     "execution_count": 3,
     "metadata": {},
     "output_type": "execute_result"
    }
   ],
   "source": [
    "data = pd.read_csv(\"./Dataset_multivariable.csv\")\n",
    "X = data.drop(columns=\"y\")\n",
    "y = data[\"y\"]\n",
    "\n",
    "X_train, X_test, y_train, y_test = train_test_split(X, y, test_size=0.3, random_state=0, shuffle=True)\n",
    "\n",
    "X_train"
   ]
  },
  {
   "cell_type": "code",
   "execution_count": 4,
   "metadata": {},
   "outputs": [
    {
     "data": {
      "text/plain": [
       "<Figure size 1200x600 with 0 Axes>"
      ]
     },
     "execution_count": 4,
     "metadata": {},
     "output_type": "execute_result"
    },
    {
     "data": {
      "text/plain": [
       "<Figure size 1200x600 with 0 Axes>"
      ]
     },
     "metadata": {},
     "output_type": "display_data"
    }
   ],
   "source": [
    "plt.figure(figsize=(12, 6))"
   ]
  },
  {
   "cell_type": "code",
   "execution_count": 14,
   "metadata": {},
   "outputs": [
    {
     "name": "stdout",
     "output_type": "stream",
     "text": [
      "Iteracion 0\n",
      "[[0.]\n",
      " [0.]\n",
      " [0.]\n",
      " [0.]\n",
      " [0.]\n",
      " [0.]\n",
      " [0.]]\n",
      "[[ 0.0015834   0.000609    0.001218    0.0013398   0.0008526   0.0004872\n",
      "   0.0010962 ]\n",
      " [ 0.0015834   0.000609    0.001218    0.0013398   0.0008526   0.0004872\n",
      "   0.0010962 ]\n",
      " [ 0.0020358   0.000783    0.001566    0.0017226   0.0010962   0.0006264\n",
      "   0.0014094 ]\n",
      " [-0.0400374  -0.015399   -0.030798   -0.0338778  -0.0215586  -0.0123192\n",
      "  -0.0277182 ]\n",
      " [ 0.0470496   0.018096    0.036192    0.0398112   0.0253344   0.0144768\n",
      "   0.0325728 ]\n",
      " [ 0.02807142  0.0107967   0.0215934   0.02375274  0.01511538  0.00863736\n",
      "   0.01943406]]\n",
      "Iteracion 1\n",
      "[[4.54330617 1.74742545 3.4948509  3.84433599 2.44639563 1.39794036\n",
      "  3.14536581]\n",
      " [1.69179278 0.65068953 1.30137906 1.43151697 0.91096534 0.52055162\n",
      "  1.17124115]\n",
      " [3.47398865 1.33614948 2.67229896 2.93952886 1.87060927 1.06891958\n",
      "  2.40506906]\n",
      " [3.83042782 1.47324147 2.94648294 3.24113123 2.06253806 1.17859318\n",
      "  2.65183465]\n",
      " [2.40467113 0.92487351 1.84974702 2.03472172 1.29482291 0.73989881\n",
      "  1.66477232]\n",
      " [1.3353536  0.51359754 1.02719508 1.12991459 0.71903656 0.41087803\n",
      "  0.92447557]\n",
      " [3.11754947 1.19905749 2.39811498 2.63792648 1.67868049 0.95924599\n",
      "  2.15830348]]\n",
      "[[ 0.00304442  0.00117093  0.00234186  0.00257605  0.0016393   0.00093674\n",
      "   0.00210767]\n",
      " [ 0.00304442  0.00117093  0.00234186  0.00257605  0.0016393   0.00093674\n",
      "   0.00210767]\n",
      " [ 0.003887    0.001495    0.00299     0.003289    0.002093    0.001196\n",
      "   0.002691  ]\n",
      " [-0.07657149 -0.02945057 -0.05890114 -0.06479126 -0.0412308  -0.02356046\n",
      "  -0.05301103]\n",
      " [ 0.08991764  0.03458371  0.06916742  0.07608416  0.04841719  0.02766697\n",
      "   0.06225068]\n",
      " [ 0.05374153  0.02066982  0.04133964  0.0454736   0.02893775  0.01653585\n",
      "   0.03720567]]\n",
      "Iteracion 2\n",
      "[[8.68738402 3.34130155 6.68260309 7.3508634  4.67782217 2.67304124\n",
      "  6.01434278]\n",
      " [3.2351998  1.24430761 2.48861523 2.73747675 1.74203066 0.99544609\n",
      "  2.2397537 ]\n",
      " [6.64281494 2.55492882 5.10985764 5.62084341 3.57690035 2.04394306\n",
      "  4.59887188]\n",
      " [7.32433797 2.81705306 5.63410613 6.19751674 3.94387429 2.25364245\n",
      "  5.07069551]\n",
      " [4.59824585 1.7685561  3.53711219 3.89082341 2.47597854 1.41484488\n",
      "  3.18340097]\n",
      " [2.55367677 0.98218337 1.96436674 2.16080342 1.37505672 0.7857467\n",
      "  1.76793007]\n",
      " [5.96129191 2.29280458 4.58560916 5.04417008 3.20992641 1.83424366\n",
      "  4.12704824]]\n",
      "[[ 0.0043938   0.00168992  0.00337985  0.00371783  0.00236589  0.00135194\n",
      "   0.00304186]\n",
      " [ 0.0043938   0.00168992  0.00337985  0.00371783  0.00236589  0.00135194\n",
      "   0.00304186]\n",
      " [ 0.00556981  0.00214224  0.00428447  0.00471292  0.00299913  0.00171379\n",
      "   0.00385602]\n",
      " [-0.10990997 -0.04227307 -0.08454613 -0.09300074 -0.05918229 -0.03381845\n",
      "  -0.07609152]\n",
      " [ 0.12897143  0.0496044   0.09920879  0.10912967  0.06944615  0.03968352\n",
      "   0.08928791]\n",
      " [ 0.07722124  0.02970048  0.05940095  0.06534105  0.04158067  0.02376038\n",
      "   0.05346086]]\n",
      "Iteracion 3\n",
      "[[12.46730015  4.79511544  9.59023088 10.54925397  6.71316162  3.83609235\n",
      "   8.6312078 ]\n",
      " [ 4.64325462  1.78586716  3.57173432  3.92890775  2.50021403  1.42869373\n",
      "   3.21456089]\n",
      " [ 9.53328307  3.66664734  7.33329467  8.06662414  5.13330627  2.93331787\n",
      "   6.59996521]\n",
      " [10.51128877  4.04280337  8.08560674  8.89416742  5.65992472  3.2342427\n",
      "   7.27704607]\n",
      " [ 6.599266    2.53817923  5.07635846  5.58399431  3.55345092  2.03054338\n",
      "   4.56872262]\n",
      " [ 3.66524893  1.40971113  2.81942225  3.10136448  1.97359558  1.1277689\n",
      "   2.53748003]\n",
      " [ 8.55527738  3.2904913   6.5809826   7.23908086  4.60668782  2.63239304\n",
      "   5.92288434]]\n",
      "[[ 0.00564135  0.00216975  0.0043395   0.00477345  0.00303765  0.0017358\n",
      "   0.00390555]\n",
      " [ 0.00564135  0.00216975  0.0043395   0.00477345  0.00303765  0.0017358\n",
      "   0.00390555]\n",
      " [ 0.00709903  0.0027304   0.00546079  0.00600687  0.00382255  0.00218432\n",
      "   0.00491471]\n",
      " [-0.14033354 -0.05397444 -0.10794888 -0.11874377 -0.07556422 -0.04317955\n",
      "  -0.09715399]\n",
      " [ 0.16454599  0.06328692  0.12657384  0.13923122  0.08860169  0.05062954\n",
      "   0.11391645]\n",
      " [ 0.09870293  0.03796267  0.07592533  0.08351787  0.05314773  0.03037013\n",
      "   0.0683328 ]]\n"
     ]
    }
   ],
   "source": [
    "w = [0, 0, 0, 0, 0]\n",
    "mseall = []\n",
    "alpha = 0.000006\n",
    "num_iters = 4\n",
    "\n",
    "x = np.array(X_train)\n",
    "ones = np.ones(shape=(x.shape[0],1))\n",
    "x = np.concatenate((ones, x), axis=1)\n",
    "y = np.array(y_train)\n",
    "W = np.zeros(shape=(x.shape[1],1))\n",
    "all_W = []\n",
    "for i in range(num_iters):\n",
    "    y_p = x @ W\n",
    "    print(\"Iteracion\", i)\n",
    "    print(y_p)\n",
    "    dW = np.dot(x.T, y_p - y)\n",
    "    W = W - alpha * dW\n",
    "    print(W)\n",
    "all_W.append(W)\n"
   ]
  },
  {
   "cell_type": "code",
   "execution_count": 50,
   "metadata": {},
   "outputs": [
    {
     "data": {
      "image/png": "[encoded data removed]",
      "text/plain": [
       "<Figure size 800x600 with 1 Axes>"
      ]
     },
     "metadata": {},
     "output_type": "display_data"
    },
    {
     "name": "stdout",
     "output_type": "stream",
     "text": [
      "Error de estimación (σ²): [nan, nan, nan, nan, nan]\n"
     ]
    }
   ],
   "source": [
    "plt.figure(figsize=(8, 6))\n",
    "plt.plot(mseall)\n",
    "plt.xlabel('Iteración')\n",
    "plt.ylabel('Error de estimación (MSE)')\n",
    "plt.title('Error de estimación en cada iteración')\n",
    "plt.show()\n",
    "\n",
    "# Imprimir el error de estimación final\n",
    "print(f\"Error de estimación (σ²): {mseall}\")"
   ]
  },
  {
   "cell_type": "code",
   "execution_count": null,
   "metadata": {},
   "outputs": [],
   "source": []
  }
 ],
 "metadata": {
  "kernelspec": {
   "display_name": "py311",
   "language": "python",
   "name": "python3"
  },
  "language_info": {
   "codemirror_mode": {
    "name": "ipython",
    "version": 3
   },
   "file_extension": ".py",
   "mimetype": "text/x-python",
   "name": "python",
   "nbconvert_exporter": "python",
   "pygments_lexer": "ipython3",
   "version": "3.11.5"
  }
 },
 "nbformat": 4,
 "nbformat_minor": 2
}
